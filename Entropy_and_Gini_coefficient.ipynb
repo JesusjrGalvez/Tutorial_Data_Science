{
  "nbformat": 4,
  "nbformat_minor": 0,
  "metadata": {
    "colab": {
      "provenance": [],
      "authorship_tag": "ABX9TyNna90ETQTPJ4RotMuugPZB",
      "include_colab_link": true
    },
    "kernelspec": {
      "name": "python3",
      "display_name": "Python 3"
    },
    "language_info": {
      "name": "python"
    }
  },
  "cells": [
    {
      "cell_type": "markdown",
      "metadata": {
        "id": "view-in-github",
        "colab_type": "text"
      },
      "source": [
        "<a href=\"https://colab.research.google.com/github/JesusjrGalvez/Tutorial_Data_Science/blob/main/Entropy_and_Gini_coefficient.ipynb\" target=\"_parent\"><img src=\"https://colab.research.google.com/assets/colab-badge.svg\" alt=\"Open In Colab\"/></a>"
      ]
    },
    {
      "cell_type": "code",
      "execution_count": null,
      "metadata": {
        "id": "eihuHPnGfSDF"
      },
      "outputs": [],
      "source": [
        "# NOTEBOOK FROM https://www.featureranking.com/tutorials/machine-learning-tutorials/information-gain-computation/"
      ]
    },
    {
      "cell_type": "code",
      "source": [
        "import warnings\n",
        "warnings.filterwarnings(\"ignore\")\n",
        "\n",
        "import pandas as pd\n",
        "import numpy as np"
      ],
      "metadata": {
        "id": "4OhRiM-WfY2x"
      },
      "execution_count": null,
      "outputs": []
    },
    {
      "cell_type": "code",
      "source": [
        "lst = ['apple']*30 + ['orange']*2 + ['banana']*2\n",
        "fruits = pd.Series(lst)\n",
        "print(fruits)"
      ],
      "metadata": {
        "colab": {
          "base_uri": "https://localhost:8080/"
        },
        "id": "e63sV-icfa2v",
        "outputId": "eb5f5a44-6cdc-4d39-9ccf-4463343382ba"
      },
      "execution_count": 5,
      "outputs": [
        {
          "output_type": "stream",
          "name": "stdout",
          "text": [
            "0      apple\n",
            "1      apple\n",
            "2      apple\n",
            "3      apple\n",
            "4      apple\n",
            "5      apple\n",
            "6      apple\n",
            "7      apple\n",
            "8      apple\n",
            "9      apple\n",
            "10     apple\n",
            "11     apple\n",
            "12     apple\n",
            "13     apple\n",
            "14     apple\n",
            "15     apple\n",
            "16     apple\n",
            "17     apple\n",
            "18     apple\n",
            "19     apple\n",
            "20     apple\n",
            "21     apple\n",
            "22     apple\n",
            "23     apple\n",
            "24     apple\n",
            "25     apple\n",
            "26     apple\n",
            "27     apple\n",
            "28     apple\n",
            "29     apple\n",
            "30    orange\n",
            "31    orange\n",
            "32    banana\n",
            "33    banana\n",
            "dtype: object\n"
          ]
        }
      ]
    },
    {
      "cell_type": "code",
      "source": [
        "probs = fruits.value_counts(normalize=True)\n",
        "probs"
      ],
      "metadata": {
        "colab": {
          "base_uri": "https://localhost:8080/"
        },
        "id": "TtNEIN4cff5z",
        "outputId": "455acb82-62fa-4ebc-fc83-89cd5cc13965"
      },
      "execution_count": 8,
      "outputs": [
        {
          "output_type": "execute_result",
          "data": {
            "text/plain": [
              "apple     0.882353\n",
              "orange    0.058824\n",
              "banana    0.058824\n",
              "dtype: float64"
            ]
          },
          "metadata": {},
          "execution_count": 8
        }
      ]
    },
    {
      "cell_type": "markdown",
      "source": [
        "Recall that Shannon's model defines entropy as\n",
        "\n",
        "\\\n",
        " \n",
        "The idea with entropy is that the more heterogenous and impure a feature is, the higher the entropy. Conversely, the more homogenous and pure a feature is, the lower the entropy.\n",
        "The following calculation shows how impurity of this fruit basket can be computed using the entropy criterion."
      ],
      "metadata": {
        "id": "0TCgPenIfl7c"
      }
    },
    {
      "cell_type": "code",
      "source": [
        "entropy = -1 * np.sum(np.log2(probs) * probs)\n",
        "entropy"
      ],
      "metadata": {
        "colab": {
          "base_uri": "https://localhost:8080/"
        },
        "id": "87unZ6H_h5as",
        "outputId": "ac2a012a-243a-4019-b96c-4148e5b7e173"
      },
      "execution_count": 9,
      "outputs": [
        {
          "output_type": "execute_result",
          "data": {
            "text/plain": [
              "0.6402064333604701"
            ]
          },
          "metadata": {},
          "execution_count": 9
        }
      ]
    },
    {
      "cell_type": "markdown",
      "source": [
        "The gini impurity index is defined as follows:\n",
        "Gini(𝑥):=1−∑𝑖=1ℓ𝑃(𝑡=𝑖)2\n",
        "Gini\n",
        "(\n",
        "x\n",
        ")\n",
        ":=\n",
        "1\n",
        "−\n",
        "∑\n",
        "i\n",
        "=\n",
        "1\n",
        "ℓ\n",
        "P\n",
        "(\n",
        "t\n",
        "=\n",
        "i\n",
        ")\n",
        "2\n",
        " \n",
        "The idea with Gini index is the same as in entropy in the sense that the more heterogenous and impure a feature is, the higher the Gini index.\n",
        "A nice property of the Gini index is that it is always between 0 and 1, and this may make it easier to compare Gini indices across different features.\n",
        "The impurity of our fruit basket using Gini index is calculated as below."
      ],
      "metadata": {
        "id": "SYgYRSiPiCCX"
      }
    },
    {
      "cell_type": "code",
      "source": [
        "gini_index = 1 - np.sum(np.square(probs))\n",
        "gini_index"
      ],
      "metadata": {
        "colab": {
          "base_uri": "https://localhost:8080/"
        },
        "id": "Xnah4BpBiKYU",
        "outputId": "14279d3a-3acb-4607-cc7b-a6c2bed86221"
      },
      "execution_count": 10,
      "outputs": [
        {
          "output_type": "execute_result",
          "data": {
            "text/plain": [
              "0.2145328719723183"
            ]
          },
          "metadata": {},
          "execution_count": 10
        }
      ]
    }
  ]
}